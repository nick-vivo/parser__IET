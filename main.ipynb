{
 "cells": [
  {
   "cell_type": "code",
   "execution_count": 21,
   "metadata": {},
   "outputs": [],
   "source": [
    "from bs4 import BeautifulSoup\n",
    "import os"
   ]
  },
  {
   "cell_type": "code",
   "execution_count": 35,
   "metadata": {},
   "outputs": [],
   "source": [
    "name_file = \"text\"\n",
    "path = \"data/html_pages\"\n",
    "\n",
    "file_list = os.listdir(path)\n",
    "\n",
    "with open(name_file, \"w\") as f:\n",
    "\n",
    "    for file in file_list:\n",
    "\n",
    "        with open(os.path.join(path, file), \"r\") as fi:\n",
    "            html_page = fi.read()\n",
    "\n",
    "        soup = BeautifulSoup(html_page, 'lxml')\n",
    "\n",
    "        data_correct = soup.find_all('div', class_=\"que truefalse deferredfeedback correct\")\n",
    "        data_incorrect = soup.find_all('div', class_=\"que truefalse deferredfeedback incorrect\")\n",
    "\n",
    "\n",
    "        for quection in data_correct:\n",
    "            answer = quection.find('div', class_=\"formulation clearfix\")\n",
    "            text = quection.find('div', class_=\"qtext\")\n",
    "\n",
    "            r0_correct_element = answer.find('div', class_='r0 correct')\n",
    "            r1_correct_element = answer.find('div', class_='r1 correct')\n",
    "\n",
    "            f.write(text.text.strip() + \"\\n\")\n",
    "\n",
    "            if r0_correct_element:\n",
    "                f.write(\"Верно\"+ \"\\n\") \n",
    "            elif r1_correct_element:\n",
    "                f.write(\"Неверно\" + \"\\n\")\n",
    "            else:\n",
    "                f.write(\"Ошибка\" + \"\\n\")       \n",
    "            \n",
    "            f.write(\"\\n\")\n",
    "\n",
    "            \n",
    "        for quection in data_incorrect:\n",
    "\n",
    "            answer = quection.find('div', class_=\"formulation clearfix\")\n",
    "            text = quection.find('div', class_=\"qtext\")\n",
    "\n",
    "            r0_correct_element = answer.find('div', class_='r0 incorrect')\n",
    "            r1_correct_element = answer.find('div', class_='r1 incorrect')\n",
    "\n",
    "            f.write(text.text.strip() + \"\\n\")\n",
    "\n",
    "            if r0_correct_element:\n",
    "                f.write(\"Неверно\" + \"\\n\")\n",
    "            elif r1_correct_element:\n",
    "                f.write(\"Верно\"+ \"\\n\")\n",
    "            else:\n",
    "                f.write(\"Ошибка\" + \"\\n\")\n",
    "\n",
    "            f.write(\"\\n\")\n"
   ]
  }
 ],
 "metadata": {
  "kernelspec": {
   "display_name": "Python 3",
   "language": "python",
   "name": "python3"
  },
  "language_info": {
   "codemirror_mode": {
    "name": "ipython",
    "version": 3
   },
   "file_extension": ".py",
   "mimetype": "text/x-python",
   "name": "python",
   "nbconvert_exporter": "python",
   "pygments_lexer": "ipython3",
   "version": "3.10.12"
  }
 },
 "nbformat": 4,
 "nbformat_minor": 2
}
